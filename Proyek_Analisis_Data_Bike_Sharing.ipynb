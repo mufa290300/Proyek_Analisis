{
 "cells": [
  {
   "cell_type": "markdown",
   "metadata": {
    "id": "H9wADwK78DCz"
   },
   "source": [
    "# Proyek Analisis Data: Bike Sharing\n",
    "- **Nama:** MUHAMAD FAHRUDIN\n",
    "- **Email:** mufa290300@gmail.com\n",
    "- **ID Dicoding:** mufa_290300"
   ]
  },
  {
   "cell_type": "markdown",
   "metadata": {
    "id": "eE0raob58DC0"
   },
   "source": [
    "## Menentukan Pertanyaan Bisnis"
   ]
  },
  {
   "cell_type": "markdown",
   "metadata": {
    "id": "GmQeQ5YF8DC0"
   },
   "source": [
    "- Pada Musim apakah penyewaan sepeda paling banyak?\n",
    "- Pada Jam berapa penyewaan sepeda paling banyak dan paling sedikit ?\n",
    "- Berapa banyak perbandingan orang yang registered dan casual ?"
   ]
  },
  {
   "cell_type": "markdown",
   "metadata": {
    "id": "H-z4QGlO8DC1"
   },
   "source": [
    "## Import Semua Packages/Library yang Digunakan"
   ]
  },
  {
   "cell_type": "code",
   "execution_count": 1,
   "metadata": {
    "id": "FVYwaObI8DC1"
   },
   "outputs": [],
   "source": [
    "import pandas as pd\n",
    "import numpy as np\n",
    "import matplotlib.pyplot as plt\n",
    "import seaborn as sns"
   ]
  },
  {
   "cell_type": "markdown",
   "metadata": {
    "id": "h_Sh51Xy8DC1"
   },
   "source": [
    "## Data Wrangling"
   ]
  },
  {
   "cell_type": "markdown",
   "metadata": {
    "id": "sXU2GBYu8DC1"
   },
   "source": [
    "### Gathering Data"
   ]
  },
  {
   "cell_type": "markdown",
   "metadata": {
    "id": "ByRzM_cw6bCA"
   },
   "source": [
    "#### Memuat Tabel day.csv dan Tabel Hour.csv"
   ]
  },
  {
   "cell_type": "code",
   "execution_count": 2,
   "metadata": {
    "colab": {
     "base_uri": "https://localhost:8080/",
     "height": 424
    },
    "id": "zjCBk1BI8DC1",
    "outputId": "c5d90bfb-2003-4186-ad0e-c8650ca975b1"
   },
   "outputs": [
    {
     "ename": "FileNotFoundError",
     "evalue": "[Errno 2] No such file or directory: 'day.csv'",
     "output_type": "error",
     "traceback": [
      "\u001b[1;31m---------------------------------------------------------------------------\u001b[0m",
      "\u001b[1;31mFileNotFoundError\u001b[0m                         Traceback (most recent call last)",
      "Cell \u001b[1;32mIn[2], line 2\u001b[0m\n\u001b[0;32m      1\u001b[0m \u001b[38;5;66;03m#Memuat Tabel day.csv\u001b[39;00m\n\u001b[1;32m----> 2\u001b[0m day_df \u001b[38;5;241m=\u001b[39m \u001b[43mpd\u001b[49m\u001b[38;5;241;43m.\u001b[39;49m\u001b[43mread_csv\u001b[49m\u001b[43m(\u001b[49m\u001b[38;5;124;43m'\u001b[39;49m\u001b[38;5;124;43mday.csv\u001b[39;49m\u001b[38;5;124;43m'\u001b[39;49m\u001b[43m)\u001b[49m\n\u001b[0;32m      3\u001b[0m day_df\n",
      "File \u001b[1;32mc:\\Users\\Admin\\AppData\\Local\\Programs\\Python\\Python313\\Lib\\site-packages\\pandas\\io\\parsers\\readers.py:1026\u001b[0m, in \u001b[0;36mread_csv\u001b[1;34m(filepath_or_buffer, sep, delimiter, header, names, index_col, usecols, dtype, engine, converters, true_values, false_values, skipinitialspace, skiprows, skipfooter, nrows, na_values, keep_default_na, na_filter, verbose, skip_blank_lines, parse_dates, infer_datetime_format, keep_date_col, date_parser, date_format, dayfirst, cache_dates, iterator, chunksize, compression, thousands, decimal, lineterminator, quotechar, quoting, doublequote, escapechar, comment, encoding, encoding_errors, dialect, on_bad_lines, delim_whitespace, low_memory, memory_map, float_precision, storage_options, dtype_backend)\u001b[0m\n\u001b[0;32m   1013\u001b[0m kwds_defaults \u001b[38;5;241m=\u001b[39m _refine_defaults_read(\n\u001b[0;32m   1014\u001b[0m     dialect,\n\u001b[0;32m   1015\u001b[0m     delimiter,\n\u001b[1;32m   (...)\u001b[0m\n\u001b[0;32m   1022\u001b[0m     dtype_backend\u001b[38;5;241m=\u001b[39mdtype_backend,\n\u001b[0;32m   1023\u001b[0m )\n\u001b[0;32m   1024\u001b[0m kwds\u001b[38;5;241m.\u001b[39mupdate(kwds_defaults)\n\u001b[1;32m-> 1026\u001b[0m \u001b[38;5;28;01mreturn\u001b[39;00m \u001b[43m_read\u001b[49m\u001b[43m(\u001b[49m\u001b[43mfilepath_or_buffer\u001b[49m\u001b[43m,\u001b[49m\u001b[43m \u001b[49m\u001b[43mkwds\u001b[49m\u001b[43m)\u001b[49m\n",
      "File \u001b[1;32mc:\\Users\\Admin\\AppData\\Local\\Programs\\Python\\Python313\\Lib\\site-packages\\pandas\\io\\parsers\\readers.py:620\u001b[0m, in \u001b[0;36m_read\u001b[1;34m(filepath_or_buffer, kwds)\u001b[0m\n\u001b[0;32m    617\u001b[0m _validate_names(kwds\u001b[38;5;241m.\u001b[39mget(\u001b[38;5;124m\"\u001b[39m\u001b[38;5;124mnames\u001b[39m\u001b[38;5;124m\"\u001b[39m, \u001b[38;5;28;01mNone\u001b[39;00m))\n\u001b[0;32m    619\u001b[0m \u001b[38;5;66;03m# Create the parser.\u001b[39;00m\n\u001b[1;32m--> 620\u001b[0m parser \u001b[38;5;241m=\u001b[39m \u001b[43mTextFileReader\u001b[49m\u001b[43m(\u001b[49m\u001b[43mfilepath_or_buffer\u001b[49m\u001b[43m,\u001b[49m\u001b[43m \u001b[49m\u001b[38;5;241;43m*\u001b[39;49m\u001b[38;5;241;43m*\u001b[39;49m\u001b[43mkwds\u001b[49m\u001b[43m)\u001b[49m\n\u001b[0;32m    622\u001b[0m \u001b[38;5;28;01mif\u001b[39;00m chunksize \u001b[38;5;129;01mor\u001b[39;00m iterator:\n\u001b[0;32m    623\u001b[0m     \u001b[38;5;28;01mreturn\u001b[39;00m parser\n",
      "File \u001b[1;32mc:\\Users\\Admin\\AppData\\Local\\Programs\\Python\\Python313\\Lib\\site-packages\\pandas\\io\\parsers\\readers.py:1620\u001b[0m, in \u001b[0;36mTextFileReader.__init__\u001b[1;34m(self, f, engine, **kwds)\u001b[0m\n\u001b[0;32m   1617\u001b[0m     \u001b[38;5;28mself\u001b[39m\u001b[38;5;241m.\u001b[39moptions[\u001b[38;5;124m\"\u001b[39m\u001b[38;5;124mhas_index_names\u001b[39m\u001b[38;5;124m\"\u001b[39m] \u001b[38;5;241m=\u001b[39m kwds[\u001b[38;5;124m\"\u001b[39m\u001b[38;5;124mhas_index_names\u001b[39m\u001b[38;5;124m\"\u001b[39m]\n\u001b[0;32m   1619\u001b[0m \u001b[38;5;28mself\u001b[39m\u001b[38;5;241m.\u001b[39mhandles: IOHandles \u001b[38;5;241m|\u001b[39m \u001b[38;5;28;01mNone\u001b[39;00m \u001b[38;5;241m=\u001b[39m \u001b[38;5;28;01mNone\u001b[39;00m\n\u001b[1;32m-> 1620\u001b[0m \u001b[38;5;28mself\u001b[39m\u001b[38;5;241m.\u001b[39m_engine \u001b[38;5;241m=\u001b[39m \u001b[38;5;28;43mself\u001b[39;49m\u001b[38;5;241;43m.\u001b[39;49m\u001b[43m_make_engine\u001b[49m\u001b[43m(\u001b[49m\u001b[43mf\u001b[49m\u001b[43m,\u001b[49m\u001b[43m \u001b[49m\u001b[38;5;28;43mself\u001b[39;49m\u001b[38;5;241;43m.\u001b[39;49m\u001b[43mengine\u001b[49m\u001b[43m)\u001b[49m\n",
      "File \u001b[1;32mc:\\Users\\Admin\\AppData\\Local\\Programs\\Python\\Python313\\Lib\\site-packages\\pandas\\io\\parsers\\readers.py:1880\u001b[0m, in \u001b[0;36mTextFileReader._make_engine\u001b[1;34m(self, f, engine)\u001b[0m\n\u001b[0;32m   1878\u001b[0m     \u001b[38;5;28;01mif\u001b[39;00m \u001b[38;5;124m\"\u001b[39m\u001b[38;5;124mb\u001b[39m\u001b[38;5;124m\"\u001b[39m \u001b[38;5;129;01mnot\u001b[39;00m \u001b[38;5;129;01min\u001b[39;00m mode:\n\u001b[0;32m   1879\u001b[0m         mode \u001b[38;5;241m+\u001b[39m\u001b[38;5;241m=\u001b[39m \u001b[38;5;124m\"\u001b[39m\u001b[38;5;124mb\u001b[39m\u001b[38;5;124m\"\u001b[39m\n\u001b[1;32m-> 1880\u001b[0m \u001b[38;5;28mself\u001b[39m\u001b[38;5;241m.\u001b[39mhandles \u001b[38;5;241m=\u001b[39m \u001b[43mget_handle\u001b[49m\u001b[43m(\u001b[49m\n\u001b[0;32m   1881\u001b[0m \u001b[43m    \u001b[49m\u001b[43mf\u001b[49m\u001b[43m,\u001b[49m\n\u001b[0;32m   1882\u001b[0m \u001b[43m    \u001b[49m\u001b[43mmode\u001b[49m\u001b[43m,\u001b[49m\n\u001b[0;32m   1883\u001b[0m \u001b[43m    \u001b[49m\u001b[43mencoding\u001b[49m\u001b[38;5;241;43m=\u001b[39;49m\u001b[38;5;28;43mself\u001b[39;49m\u001b[38;5;241;43m.\u001b[39;49m\u001b[43moptions\u001b[49m\u001b[38;5;241;43m.\u001b[39;49m\u001b[43mget\u001b[49m\u001b[43m(\u001b[49m\u001b[38;5;124;43m\"\u001b[39;49m\u001b[38;5;124;43mencoding\u001b[39;49m\u001b[38;5;124;43m\"\u001b[39;49m\u001b[43m,\u001b[49m\u001b[43m \u001b[49m\u001b[38;5;28;43;01mNone\u001b[39;49;00m\u001b[43m)\u001b[49m\u001b[43m,\u001b[49m\n\u001b[0;32m   1884\u001b[0m \u001b[43m    \u001b[49m\u001b[43mcompression\u001b[49m\u001b[38;5;241;43m=\u001b[39;49m\u001b[38;5;28;43mself\u001b[39;49m\u001b[38;5;241;43m.\u001b[39;49m\u001b[43moptions\u001b[49m\u001b[38;5;241;43m.\u001b[39;49m\u001b[43mget\u001b[49m\u001b[43m(\u001b[49m\u001b[38;5;124;43m\"\u001b[39;49m\u001b[38;5;124;43mcompression\u001b[39;49m\u001b[38;5;124;43m\"\u001b[39;49m\u001b[43m,\u001b[49m\u001b[43m \u001b[49m\u001b[38;5;28;43;01mNone\u001b[39;49;00m\u001b[43m)\u001b[49m\u001b[43m,\u001b[49m\n\u001b[0;32m   1885\u001b[0m \u001b[43m    \u001b[49m\u001b[43mmemory_map\u001b[49m\u001b[38;5;241;43m=\u001b[39;49m\u001b[38;5;28;43mself\u001b[39;49m\u001b[38;5;241;43m.\u001b[39;49m\u001b[43moptions\u001b[49m\u001b[38;5;241;43m.\u001b[39;49m\u001b[43mget\u001b[49m\u001b[43m(\u001b[49m\u001b[38;5;124;43m\"\u001b[39;49m\u001b[38;5;124;43mmemory_map\u001b[39;49m\u001b[38;5;124;43m\"\u001b[39;49m\u001b[43m,\u001b[49m\u001b[43m \u001b[49m\u001b[38;5;28;43;01mFalse\u001b[39;49;00m\u001b[43m)\u001b[49m\u001b[43m,\u001b[49m\n\u001b[0;32m   1886\u001b[0m \u001b[43m    \u001b[49m\u001b[43mis_text\u001b[49m\u001b[38;5;241;43m=\u001b[39;49m\u001b[43mis_text\u001b[49m\u001b[43m,\u001b[49m\n\u001b[0;32m   1887\u001b[0m \u001b[43m    \u001b[49m\u001b[43merrors\u001b[49m\u001b[38;5;241;43m=\u001b[39;49m\u001b[38;5;28;43mself\u001b[39;49m\u001b[38;5;241;43m.\u001b[39;49m\u001b[43moptions\u001b[49m\u001b[38;5;241;43m.\u001b[39;49m\u001b[43mget\u001b[49m\u001b[43m(\u001b[49m\u001b[38;5;124;43m\"\u001b[39;49m\u001b[38;5;124;43mencoding_errors\u001b[39;49m\u001b[38;5;124;43m\"\u001b[39;49m\u001b[43m,\u001b[49m\u001b[43m \u001b[49m\u001b[38;5;124;43m\"\u001b[39;49m\u001b[38;5;124;43mstrict\u001b[39;49m\u001b[38;5;124;43m\"\u001b[39;49m\u001b[43m)\u001b[49m\u001b[43m,\u001b[49m\n\u001b[0;32m   1888\u001b[0m \u001b[43m    \u001b[49m\u001b[43mstorage_options\u001b[49m\u001b[38;5;241;43m=\u001b[39;49m\u001b[38;5;28;43mself\u001b[39;49m\u001b[38;5;241;43m.\u001b[39;49m\u001b[43moptions\u001b[49m\u001b[38;5;241;43m.\u001b[39;49m\u001b[43mget\u001b[49m\u001b[43m(\u001b[49m\u001b[38;5;124;43m\"\u001b[39;49m\u001b[38;5;124;43mstorage_options\u001b[39;49m\u001b[38;5;124;43m\"\u001b[39;49m\u001b[43m,\u001b[49m\u001b[43m \u001b[49m\u001b[38;5;28;43;01mNone\u001b[39;49;00m\u001b[43m)\u001b[49m\u001b[43m,\u001b[49m\n\u001b[0;32m   1889\u001b[0m \u001b[43m\u001b[49m\u001b[43m)\u001b[49m\n\u001b[0;32m   1890\u001b[0m \u001b[38;5;28;01massert\u001b[39;00m \u001b[38;5;28mself\u001b[39m\u001b[38;5;241m.\u001b[39mhandles \u001b[38;5;129;01mis\u001b[39;00m \u001b[38;5;129;01mnot\u001b[39;00m \u001b[38;5;28;01mNone\u001b[39;00m\n\u001b[0;32m   1891\u001b[0m f \u001b[38;5;241m=\u001b[39m \u001b[38;5;28mself\u001b[39m\u001b[38;5;241m.\u001b[39mhandles\u001b[38;5;241m.\u001b[39mhandle\n",
      "File \u001b[1;32mc:\\Users\\Admin\\AppData\\Local\\Programs\\Python\\Python313\\Lib\\site-packages\\pandas\\io\\common.py:873\u001b[0m, in \u001b[0;36mget_handle\u001b[1;34m(path_or_buf, mode, encoding, compression, memory_map, is_text, errors, storage_options)\u001b[0m\n\u001b[0;32m    868\u001b[0m \u001b[38;5;28;01melif\u001b[39;00m \u001b[38;5;28misinstance\u001b[39m(handle, \u001b[38;5;28mstr\u001b[39m):\n\u001b[0;32m    869\u001b[0m     \u001b[38;5;66;03m# Check whether the filename is to be opened in binary mode.\u001b[39;00m\n\u001b[0;32m    870\u001b[0m     \u001b[38;5;66;03m# Binary mode does not support 'encoding' and 'newline'.\u001b[39;00m\n\u001b[0;32m    871\u001b[0m     \u001b[38;5;28;01mif\u001b[39;00m ioargs\u001b[38;5;241m.\u001b[39mencoding \u001b[38;5;129;01mand\u001b[39;00m \u001b[38;5;124m\"\u001b[39m\u001b[38;5;124mb\u001b[39m\u001b[38;5;124m\"\u001b[39m \u001b[38;5;129;01mnot\u001b[39;00m \u001b[38;5;129;01min\u001b[39;00m ioargs\u001b[38;5;241m.\u001b[39mmode:\n\u001b[0;32m    872\u001b[0m         \u001b[38;5;66;03m# Encoding\u001b[39;00m\n\u001b[1;32m--> 873\u001b[0m         handle \u001b[38;5;241m=\u001b[39m \u001b[38;5;28;43mopen\u001b[39;49m\u001b[43m(\u001b[49m\n\u001b[0;32m    874\u001b[0m \u001b[43m            \u001b[49m\u001b[43mhandle\u001b[49m\u001b[43m,\u001b[49m\n\u001b[0;32m    875\u001b[0m \u001b[43m            \u001b[49m\u001b[43mioargs\u001b[49m\u001b[38;5;241;43m.\u001b[39;49m\u001b[43mmode\u001b[49m\u001b[43m,\u001b[49m\n\u001b[0;32m    876\u001b[0m \u001b[43m            \u001b[49m\u001b[43mencoding\u001b[49m\u001b[38;5;241;43m=\u001b[39;49m\u001b[43mioargs\u001b[49m\u001b[38;5;241;43m.\u001b[39;49m\u001b[43mencoding\u001b[49m\u001b[43m,\u001b[49m\n\u001b[0;32m    877\u001b[0m \u001b[43m            \u001b[49m\u001b[43merrors\u001b[49m\u001b[38;5;241;43m=\u001b[39;49m\u001b[43merrors\u001b[49m\u001b[43m,\u001b[49m\n\u001b[0;32m    878\u001b[0m \u001b[43m            \u001b[49m\u001b[43mnewline\u001b[49m\u001b[38;5;241;43m=\u001b[39;49m\u001b[38;5;124;43m\"\u001b[39;49m\u001b[38;5;124;43m\"\u001b[39;49m\u001b[43m,\u001b[49m\n\u001b[0;32m    879\u001b[0m \u001b[43m        \u001b[49m\u001b[43m)\u001b[49m\n\u001b[0;32m    880\u001b[0m     \u001b[38;5;28;01melse\u001b[39;00m:\n\u001b[0;32m    881\u001b[0m         \u001b[38;5;66;03m# Binary mode\u001b[39;00m\n\u001b[0;32m    882\u001b[0m         handle \u001b[38;5;241m=\u001b[39m \u001b[38;5;28mopen\u001b[39m(handle, ioargs\u001b[38;5;241m.\u001b[39mmode)\n",
      "\u001b[1;31mFileNotFoundError\u001b[0m: [Errno 2] No such file or directory: 'day.csv'"
     ]
    }
   ],
   "source": [
    "#Memuat Tabel day.csv\n",
    "day_df = pd.read_csv('day.csv')\n",
    "day_df"
   ]
  },
  {
   "cell_type": "code",
   "execution_count": null,
   "metadata": {
    "colab": {
     "base_uri": "https://localhost:8080/",
     "height": 424
    },
    "id": "73crYt5k5y02",
    "outputId": "5100d87e-52b4-4ea2-d6e6-8a0615f72b54"
   },
   "outputs": [],
   "source": [
    "hour_df = pd.read_csv('hour.csv')\n",
    "hour_df"
   ]
  },
  {
   "cell_type": "markdown",
   "metadata": {
    "id": "MMi6xGaDkbCi"
   },
   "source": [
    "**Insight:**\n",
    "- Berdasarkan tabel diatas dapat dilihat bahwa dataset day.csv memiliki jumlah baris sebanyak 731 dan 16 kolom.\n",
    "- Dan untuk Tabel hour.csv memiliki jumlah baris sebanyak 17379 dan 17 kolom."
   ]
  },
  {
   "cell_type": "markdown",
   "metadata": {
    "id": "FHSiqaZp8DC1"
   },
   "source": [
    "### Assessing Data"
   ]
  },
  {
   "cell_type": "markdown",
   "metadata": {
    "id": "svqyPNq77W2_"
   },
   "source": [
    "#### Menilai data dari day.csv dan hour.csv"
   ]
  },
  {
   "cell_type": "code",
   "execution_count": null,
   "metadata": {
    "colab": {
     "base_uri": "https://localhost:8080/"
    },
    "id": "ax-3tEjc9Cj1",
    "outputId": "7cf0e541-b156-4a05-a451-3f26818e95ee"
   },
   "outputs": [],
   "source": [
    "day_df.info()"
   ]
  },
  {
   "cell_type": "markdown",
   "metadata": {
    "id": "FdCSNT-F7-Xb"
   },
   "source": [
    "\n",
    "\n",
    "*   Berdasarkan info dari tabel day.csv tidak ada data yang hilang semuanya telah lengkap tetapi ada kolom dteday terdeksi sebagai object seharusnya bertipe datetime.\n",
    "\n"
   ]
  },
  {
   "cell_type": "code",
   "execution_count": null,
   "metadata": {
    "colab": {
     "base_uri": "https://localhost:8080/"
    },
    "id": "XzoPtMFw7yir",
    "outputId": "dd425e71-d79e-4468-ff95-b8fd9f1eac64"
   },
   "outputs": [],
   "source": [
    "hour_df.info()"
   ]
  },
  {
   "cell_type": "markdown",
   "metadata": {
    "id": "j53kaTmh8o6c"
   },
   "source": [
    "\n",
    "\n",
    "*   Dan tabel hour.csv pun datanya lengkap hanya saja sama bahwa kolom dteday terdeteksi sebagai object seharusnya datetime.\n",
    "\n"
   ]
  },
  {
   "cell_type": "code",
   "execution_count": null,
   "metadata": {
    "colab": {
     "base_uri": "https://localhost:8080/",
     "height": 300
    },
    "id": "E9ga_Lqs8_NR",
    "outputId": "84948c12-4e4e-4fe4-ea44-59d8ac23e3ed"
   },
   "outputs": [],
   "source": [
    "day_df.describe()"
   ]
  },
  {
   "cell_type": "markdown",
   "metadata": {
    "id": "5hYXZqxC9PC0"
   },
   "source": [
    " *   Berdasarkan tabel diatas tidak ada data yang aneh atau oulier semua aman dari min sampai dengan max.\n",
    "\n",
    "*    Ada beberapa data yang seharusnya kategorikal menjadi numerik.\n",
    "*    Dan Saya akan merubah nama nama kolom supaya dapat dibaca dengan mudah."
   ]
  },
  {
   "cell_type": "code",
   "execution_count": null,
   "metadata": {
    "colab": {
     "base_uri": "https://localhost:8080/",
     "height": 320
    },
    "id": "j-rsvskA9gmJ",
    "outputId": "3a4efb2e-78f9-430c-ca13-e16772a969b0"
   },
   "outputs": [],
   "source": [
    "hour_df.describe()"
   ]
  },
  {
   "cell_type": "markdown",
   "metadata": {
    "id": "RbNMiKLu9jSr"
   },
   "source": [
    "*   Dan tabel hour.cvs pun juga sama aman tidak ada data oulier\n",
    "*   Ada beberapa data yang seharusnya kategorikal menjadi numerik.\n",
    "*   Dan Saya akan merubah nama nama kolom supaya dapat dibaca dengan mudah.\n",
    "\n"
   ]
  },
  {
   "cell_type": "code",
   "execution_count": null,
   "metadata": {
    "colab": {
     "base_uri": "https://localhost:8080/",
     "height": 586
    },
    "id": "N5TGz_FD-bhy",
    "outputId": "5b52c866-ec07-47c5-a099-21a692c40b4e"
   },
   "outputs": [],
   "source": [
    "#Mengecek data yang hilang di tabel day_df\n",
    "day_df.isnull().sum()"
   ]
  },
  {
   "cell_type": "markdown",
   "metadata": {
    "id": "3Y9E2x7w-iwa"
   },
   "source": [
    "\n",
    "\n",
    "*   Dapat dibuktikan bahwa benar tidak ada missing value dalam tabel day_df\n",
    "\n"
   ]
  },
  {
   "cell_type": "code",
   "execution_count": null,
   "metadata": {
    "colab": {
     "base_uri": "https://localhost:8080/",
     "height": 617
    },
    "id": "IsXV8dhV-tOM",
    "outputId": "539fdc30-12ea-405b-fd19-c5000f65fccf"
   },
   "outputs": [],
   "source": [
    "# Mengecek data yang hilang di hour_df\n",
    "hour_df.isnull().sum()"
   ]
  },
  {
   "cell_type": "markdown",
   "metadata": {
    "id": "BBIwSvPj-x-X"
   },
   "source": [
    "\n",
    "\n",
    "*   Begitupun Dengan tabel hour_df tidak ada missing value.\n"
   ]
  },
  {
   "cell_type": "code",
   "execution_count": null,
   "metadata": {
    "colab": {
     "base_uri": "https://localhost:8080/"
    },
    "id": "Gl5TJ78eA08J",
    "outputId": "780a9d9d-8dff-4b67-db54-1b284522b1cc"
   },
   "outputs": [],
   "source": [
    "#Memeriksa data yang duplikat\n",
    "print(\"Jumlah data yang duplikat: \", day_df.duplicated().sum())\n",
    "print(\"Jumlah data yang duplikat: \", hour_df.duplicated().sum())"
   ]
  },
  {
   "cell_type": "markdown",
   "metadata": {
    "id": "NyF9KF7XBN5T"
   },
   "source": [
    "\n",
    "\n",
    "*   Tidak ada data yang duplikat di dataframe day_df maupun hour_df.\n"
   ]
  },
  {
   "cell_type": "markdown",
   "metadata": {
    "id": "EhN5R4hr8DC1"
   },
   "source": [
    "### Cleaning Data"
   ]
  },
  {
   "cell_type": "markdown",
   "metadata": {
    "id": "LaOrnd1ChGNE"
   },
   "source": [
    "#### Mengubah Tipe data kolom dteday yang asalnya object menjadi datetime\n"
   ]
  },
  {
   "cell_type": "code",
   "execution_count": null,
   "metadata": {
    "id": "q4rUpVAQCxfp"
   },
   "outputs": [],
   "source": [
    "# Mengubah tipe data kolom dteday yang asalnya object menjadi datetime\n",
    "day_df['dteday'] = pd.to_datetime(day_df['dteday'])\n",
    "hour_df['dteday'] = pd.to_datetime(hour_df['dteday'])"
   ]
  },
  {
   "cell_type": "markdown",
   "metadata": {
    "id": "gkjStvn8hQUV"
   },
   "source": [
    "#### Mengubah Tipe data int menjadi kategori pada kolom kolom"
   ]
  },
  {
   "cell_type": "code",
   "execution_count": null,
   "metadata": {
    "id": "jVnYpprE9Evz"
   },
   "outputs": [],
   "source": [
    "# Mengubah Tipe data int menjadi data kategori pada kolom - kolom\n",
    "columns = [\"season\", \"mnth\", \"holiday\", \"weekday\", \"weathersit\"]\n",
    "for column in columns:\n",
    "    day_df[column] = day_df[column].astype(\"category\")\n",
    "    hour_df[column] = hour_df[column].astype(\"category\")"
   ]
  },
  {
   "cell_type": "markdown",
   "metadata": {
    "id": "ikS4bLsKhWOb"
   },
   "source": [
    "#### Mengubah kolom kolom agar mudah dibaca di data day_df"
   ]
  },
  {
   "cell_type": "code",
   "execution_count": null,
   "metadata": {
    "id": "qW3m90fYC9u4"
   },
   "outputs": [],
   "source": [
    "# Mengubah nama - nama kolom agar mudah dibaca di data day_df.\n",
    "day_df.rename(columns={\n",
    "    \"dteday\": \"date\",\n",
    "    \"yr\": \"year\",\n",
    "    \"mnth\": \"month\",\n",
    "    \"cnt\": \"Total_count\"\n",
    "}, inplace=True)"
   ]
  },
  {
   "cell_type": "markdown",
   "metadata": {
    "id": "hdpVGKnJIDST"
   },
   "source": [
    "#### Mengubah isi dari kolom kolom"
   ]
  },
  {
   "cell_type": "code",
   "execution_count": null,
   "metadata": {
    "id": "0JaYSi8JDz6h"
   },
   "outputs": [],
   "source": [
    "# Mengubah nama - nama kolom agar mudah dibaca di data hour_df\n",
    "hour_df.rename(columns={\n",
    "    \"dteday\": \"date\",\n",
    "    \"yr\": \"year\",\n",
    "    \"mnth\": \"month\",\n",
    "    \"hr\": \"hour\",\n",
    "    \"cnt\": \"Total_count\"\n",
    "}, inplace=True)"
   ]
  },
  {
   "cell_type": "code",
   "execution_count": null,
   "metadata": {
    "id": "W-aVJBndG4wX"
   },
   "outputs": [],
   "source": [
    "# Mengubah isi kolom berdasarkan info yang didapat dari sumber dataset.\n",
    "day_df[\"season\"] = day_df[\"season\"].map({\n",
    "    1: \"Spring\",\n",
    "    2: \"Summer\",\n",
    "    3: \"Fall\",\n",
    "    4: \"Winter\"\n",
    "})"
   ]
  },
  {
   "cell_type": "code",
   "execution_count": null,
   "metadata": {
    "id": "bpgzWhYIHQ9x"
   },
   "outputs": [],
   "source": [
    "# data kolom season di data hour_df\n",
    "hour_df[\"season\"] = hour_df[\"season\"].map({\n",
    "    1: \"Spring\",\n",
    "    2: \"Summer\",\n",
    "    3: \"Fall\",\n",
    "    4: \"Winter\"\n",
    "})"
   ]
  },
  {
   "cell_type": "code",
   "execution_count": null,
   "metadata": {
    "id": "GMAa64epHl_N"
   },
   "outputs": [],
   "source": [
    "day_df[\"month\"] = day_df[\"month\"].map ({\n",
    "    1: \"Jan\",\n",
    "    2: \"Feb\",\n",
    "    3: \"Mar\",\n",
    "    4: \"Apr\",\n",
    "    5: \"May\",\n",
    "    6: \"Jun\",\n",
    "    7: \"Jul\",\n",
    "    8: \"Aug\",\n",
    "    9: \"Sep\",\n",
    "    10: \"Oct\",\n",
    "    11: \"Nov\",\n",
    "    12: \"Dec\"\n",
    "})"
   ]
  },
  {
   "cell_type": "code",
   "execution_count": null,
   "metadata": {
    "id": "R1iGcGQCILZi"
   },
   "outputs": [],
   "source": [
    "# Mengubah kolom month di hour_df\n",
    "hour_df[\"month\"] = hour_df[\"month\"].map ({\n",
    "    1: \"Jan\",\n",
    "    2: \"Feb\",\n",
    "    3: \"Mar\",\n",
    "    4: \"Apr\",\n",
    "    5: \"May\",\n",
    "    6: \"Jun\",\n",
    "    7: \"Jul\",\n",
    "    8: \"Aug\",\n",
    "    9: \"Sep\",\n",
    "    10: \"Oct\",\n",
    "    11: \"Nov\",\n",
    "    12: \"Dec\"\n",
    "})"
   ]
  },
  {
   "cell_type": "code",
   "execution_count": null,
   "metadata": {
    "id": "0W3od_QyImJ_"
   },
   "outputs": [],
   "source": [
    "#Mengubah isi di kolom weekday di data day_df dan hour_df\n",
    "day_df[\"weekday\"] = day_df[\"weekday\"].map({\n",
    "    0: \"Sunday\",\n",
    "    1: \"Monday\",\n",
    "    2: \"Tuesday\",\n",
    "    3: \"Wednesday\",\n",
    "    4: \"Thursday\",\n",
    "    5: \"Friday\",\n",
    "    6: \"Saturday\"\n",
    "})\n",
    "hour_df[\"weekday\"] = hour_df[\"weekday\"].map({\n",
    "    0: \"Sunday\",\n",
    "    1: \"Monday\",\n",
    "    2: \"Tuesday\",\n",
    "    3: \"Wednesday\",\n",
    "    4: \"Thursday\",\n",
    "    5: \"Friday\",\n",
    "    6: \"Saturday\"\n",
    "})"
   ]
  },
  {
   "cell_type": "code",
   "execution_count": null,
   "metadata": {
    "id": "iaQiGYHiI8yA"
   },
   "outputs": [],
   "source": [
    "# Mengubah isi kolom weathersit\n",
    "day_df[\"weathersit\"] = day_df[\"weathersit\"].map({\n",
    "    1: \"Clear\",\n",
    "    2: \"Misty\",\n",
    "    3: \"Light Rainsnow\",\n",
    "    4: \"Heavy Rainsnow\"\n",
    "})\n",
    "hour_df[\"weathersit\"] = hour_df[\"weathersit\"].map({\n",
    "    1: \"Clear\",\n",
    "    2: \"Misty\",\n",
    "    3: \"Light Rainsnow\",\n",
    "    4: \"Heavy Rainsnow\"\n",
    "})"
   ]
  },
  {
   "cell_type": "code",
   "execution_count": null,
   "metadata": {
    "id": "FurOGQTyO9Jk"
   },
   "outputs": [],
   "source": [
    "# Mengubah isi data year\n",
    "day_df[\"year\"] = day_df[\"year\"].map({\n",
    "    0: 2011,\n",
    "    1: 2012\n",
    "})"
   ]
  },
  {
   "cell_type": "markdown",
   "metadata": {
    "id": "Q_5ejIqckiSP"
   },
   "source": [
    "**Insight:**\n",
    "- Mengubah tipe kolom dteday\n",
    "- Mengubah nama nama kolom supaya mudah dibaca\n",
    "- Mengubah isi kolom berdasarkan sumber dataset"
   ]
  },
  {
   "cell_type": "markdown",
   "metadata": {
    "id": "gp-Y6wU38DC1"
   },
   "source": [
    "## Exploratory Data Analysis (EDA)"
   ]
  },
  {
   "cell_type": "markdown",
   "metadata": {
    "id": "MW7WF2kr8DC1"
   },
   "source": [
    "### Explore ..."
   ]
  },
  {
   "cell_type": "markdown",
   "metadata": {
    "id": "_Xb2xbmWhk-W"
   },
   "source": [
    "#### Melihat Jumlah penyewaan di tiap tiap musim"
   ]
  },
  {
   "cell_type": "code",
   "execution_count": null,
   "metadata": {
    "colab": {
     "base_uri": "https://localhost:8080/",
     "height": 230
    },
    "id": "e9CQCZjk8DC2",
    "outputId": "d026a0f5-3112-49ca-f410-13353e7a4a85"
   },
   "outputs": [],
   "source": [
    "# Melihat jumlah penyewaan tiap tiap musim\n",
    "day_df.groupby(\"season\")[\"Total_count\"].sum().sort_values(ascending=False).reset_index()\n"
   ]
  },
  {
   "cell_type": "markdown",
   "metadata": {
    "id": "5Ypt4KMehqcu"
   },
   "source": [
    "#### Melihat Jumlah penyewaan berdasarkan jam"
   ]
  },
  {
   "cell_type": "code",
   "execution_count": null,
   "metadata": {
    "colab": {
     "base_uri": "https://localhost:8080/",
     "height": 802
    },
    "id": "4tYAGrn5N7lp",
    "outputId": "4e8d7e23-e7c5-48fd-e347-4a4d61eb02f1"
   },
   "outputs": [],
   "source": [
    "# Melihat jumlah penyewaan berdasarkan jam\n",
    "hour_df.groupby(\"hour\")[\"Total_count\"].sum().sort_values(ascending=False).reset_index()"
   ]
  },
  {
   "cell_type": "markdown",
   "metadata": {
    "id": "fkLe7huLhuxf"
   },
   "source": [
    "#### Melihat Jumlah penyewaan tiap tahun berdasarkan registered dan casual"
   ]
  },
  {
   "cell_type": "code",
   "execution_count": null,
   "metadata": {
    "colab": {
     "base_uri": "https://localhost:8080/",
     "height": 175
    },
    "id": "cYptBDyjPRts",
    "outputId": "358b3b33-463a-41e9-d8b0-db0fee5ce3ac"
   },
   "outputs": [],
   "source": [
    "#melihat jumlah penyewaan tiap tahun berdasarkan registered dan casual\n",
    "day_df.groupby(by=\"year\").agg({\n",
    "    \"registered\": [\"sum\"],\n",
    "    \"casual\": [\"sum\"]\n",
    "})"
   ]
  },
  {
   "cell_type": "markdown",
   "metadata": {
    "id": "th_Lzl2Fkj9O"
   },
   "source": [
    "**Insight:**\n",
    "- Berdasarkan data data diatas dapat diketahui bahwa penyewa terbannyak ada pada musim fall.Penyewa terbanyak pada jam 17.00 dan paling rendah pada jam 4.00.Dan terakhir data yang ter registered di 2011 itu 995851 dan yang casual itu 247252 pada tahun 2012 ter registered 1676811 dan casula 372765 melihat data tersebut sangat jauh sekali pengguna ter registered dan casual."
   ]
  },
  {
   "cell_type": "markdown",
   "metadata": {
    "id": "zsyZjqak8DC2"
   },
   "source": [
    "## Visualization & Explanatory Analysis"
   ]
  },
  {
   "cell_type": "markdown",
   "metadata": {
    "id": "HZxOiQ6n8DC2"
   },
   "source": [
    "### Pertanyaan 1: Pada musim apakah penyewaan paling terbanyak ?"
   ]
  },
  {
   "cell_type": "code",
   "execution_count": null,
   "metadata": {
    "colab": {
     "base_uri": "https://localhost:8080/",
     "height": 633
    },
    "id": "1swJUdAD8DC2",
    "outputId": "53e9ec7d-2af1-4a67-b0eb-192d8cd5b9c6"
   },
   "outputs": [],
   "source": [
    "## Pada musim apakah penyewaan paling terbanyak?\n",
    "# mengatur warna\n",
    "colors = [\"#D3D3D3\", \"#D3D3D3\", \"#72BCD4\", \"#D3D3D3\"]\n",
    "# Membuat plot\n",
    "fig, ax = plt.subplots(figsize=(10, 5))\n",
    "# Membuat barplot\n",
    "sns.barplot(\n",
    "    x=\"season\",\n",
    "    y=\"Total_count\",\n",
    "    data=day_df.sort_values(by=\"season\", ascending=False),\n",
    "    palette=colors,\n",
    "    ax=ax\n",
    ")\n",
    "# Membuat judul dan label\n",
    "ax.set_title(\"Jumlah Penyewaan Sepeda Tiap Musim\", loc=\"center\", fontsize=50)\n",
    "ax.set_ylabel(None)\n",
    "ax.set_xlabel(None)\n",
    "ax.tick_params(axis='x', labelsize=35)\n",
    "ax.tick_params(axis='y', labelsize=30)\n",
    "# Menampilkan plot\n",
    "plt.show()\n"
   ]
  },
  {
   "cell_type": "markdown",
   "metadata": {
    "id": "6uReLse_ZUKK"
   },
   "source": [
    "\n",
    "\n",
    "*   Musim paling banyak disewa sepeda nya adalah pada musim Fall.\n"
   ]
  },
  {
   "cell_type": "markdown",
   "metadata": {
    "id": "DgHI7CiU8DC2"
   },
   "source": [
    "### Pertanyaan 2: Pada Jam berapa penyewaan sepeda paling banyak dan paling sedikit ?"
   ]
  },
  {
   "cell_type": "code",
   "execution_count": null,
   "metadata": {
    "colab": {
     "base_uri": "https://localhost:8080/",
     "height": 827
    },
    "id": "Go0lCsvO8DC2",
    "outputId": "dcdf8f55-ca3d-4149-878a-de134c1824d6"
   },
   "outputs": [],
   "source": [
    "# Mengelompokan data\n",
    "sum_order_items_df = hour_df.groupby(\"hour\").Total_count.sum().sort_values(ascending=False).reset_index()\n",
    "# Membuat barplot untuk penyewa sepeda terbanyak\n",
    "fig, ax = plt.subplots(nrows=1, ncols=2, figsize=(35, 15))\n",
    "sns.barplot(x=\"hour\", y=\"Total_count\", data=sum_order_items_df.head(5), palette=[\"#D3D3D3\", \"#D3D3D3\", \"#90CAF9\", \"#D3D3D3\", \"#D3D3D3\"], ax=ax[0])\n",
    "# Menambahkan judul dan label untuk tabel pertama\n",
    "ax[0].set_ylabel(None)\n",
    "ax[0].set_xlabel(\"Hours (PM)\", fontsize=30)\n",
    "ax[0].set_title(\"Jam dengan banyak penyewa sepeda\", loc=\"center\", fontsize=30)\n",
    "ax[0].tick_params(axis='y', labelsize=35)\n",
    "ax[0].tick_params(axis='x', labelsize=30)\n",
    "# Membuat bar plot untuk penyewa sepeda paling sedikit\n",
    "sns.barplot(x=\"hour\", y=\"Total_count\", data=sum_order_items_df.sort_values(by=\"hour\", ascending=True).head(5), palette=[\"#D3D3D3\", \"#D3D3D3\", \"#D3D3D3\", \"#D3D3D3\",\"#90CAF9\"], ax=ax[1])\n",
    "# Menambahkan judul dan label untuk tabel kedua\n",
    "ax[1].set_ylabel(None)\n",
    "ax[1].set_xlabel(\"Hours (AM)\",  fontsize=30)\n",
    "ax[1].set_title(\"Jam dengan sedikit penyewa sepeda\", loc=\"center\", fontsize=30)\n",
    "ax[1].invert_xaxis()\n",
    "ax[1].yaxis.set_label_position(\"right\")\n",
    "ax[1].yaxis.tick_right()\n",
    "ax[1].tick_params(axis='y', labelsize=35)\n",
    "ax[1].tick_params(axis='x', labelsize=30)\n",
    "# Menampilkan plot\n",
    "plt.show()"
   ]
  },
  {
   "cell_type": "markdown",
   "metadata": {
    "id": "8VNPPb4jb1pq"
   },
   "source": [
    "*   Dari data diatas kita bisa melihat penyewa terbanyak itu ada pada jam 17.00 dan paling sedikit itu ada pada jam 4.00"
   ]
  },
  {
   "cell_type": "markdown",
   "metadata": {
    "id": "x-ZfhiAmiTwl"
   },
   "source": [
    "### Pertanyaan 3: Berapa banyak perbandingan orang yang registered dan casual ?"
   ]
  },
  {
   "cell_type": "markdown",
   "metadata": {
    "id": "SUxl0dKzcf31"
   },
   "source": []
  },
  {
   "cell_type": "code",
   "execution_count": null,
   "metadata": {
    "colab": {
     "base_uri": "https://localhost:8080/",
     "height": 430
    },
    "id": "sKzVS-Grcfi9",
    "outputId": "8f9c8634-17b7-4d3a-9bbf-d4065e80c71d"
   },
   "outputs": [],
   "source": [
    "# Menjumlahkan semua elemen dalam kolom casual\n",
    "total_casual = sum(day_df['casual'])\n",
    "\n",
    "# Menjumlahkan semua elemen dalam kolom registered\n",
    "total_registered = sum(day_df['registered'])\n",
    "\n",
    "# Membuat data untuk pie plot\n",
    "data = [total_casual, total_registered]\n",
    "labels = ['Casual', 'Registered']\n",
    "\n",
    "# Membuat pie plot\n",
    "plt.pie(data, labels=labels, autopct='%1.1f%%', colors=[\"#D3D3D3\", \"#72BCD4\"])\n",
    "plt.title('Perbandingan Pengguna Casual dan Registered', fontsize=16)\n",
    "\n",
    "# Menampilkan pie plot\n",
    "plt.show()"
   ]
  },
  {
   "cell_type": "markdown",
   "metadata": {
    "id": "JlwxhuUBe4-_"
   },
   "source": [
    "\n",
    "\n",
    "*   Bisa dilihat dari grafik diatas bahwa yang telah ter registered itu 81.2% dan yang casual adalah 18.8%.\n",
    "\n"
   ]
  },
  {
   "cell_type": "markdown",
   "metadata": {
    "id": "9y4VUsmcYNZ5"
   },
   "source": [
    "## Analisis Lanjutan (Opsional)"
   ]
  },
  {
   "cell_type": "markdown",
   "metadata": {
    "id": "7zscFkrtgU5Q"
   },
   "source": [
    "\n",
    "\n",
    "#### ANALISIS CLUSTERING\n",
    "  \n"
   ]
  },
  {
   "cell_type": "markdown",
   "metadata": {
    "id": "oqSna8t0eT8T"
   },
   "source": [
    "**Total Penyewa Berdasarkan Weathersit**"
   ]
  },
  {
   "cell_type": "code",
   "execution_count": null,
   "metadata": {
    "colab": {
     "base_uri": "https://localhost:8080/"
    },
    "id": "iWhnzsJGYUCO",
    "outputId": "35d3dbab-0588-45d1-9a8e-cdc8e5e5b3cb"
   },
   "outputs": [],
   "source": [
    "# Total Pengguna berdasarkan cuaca\n",
    "# Group by 'weathersit' and sum 'Total_count'\n",
    "weather_counts = hour_df.groupby('weathersit')['Total_count'].sum().reset_index()\n",
    "\n",
    "# Display the result\n",
    "print(weather_counts)"
   ]
  },
  {
   "cell_type": "markdown",
   "metadata": {
    "id": "_WeHlCeX8DC2"
   },
   "source": [
    "## Conclusion"
   ]
  },
  {
   "cell_type": "markdown",
   "metadata": {
    "id": "ZTcyR48Y8DC2"
   },
   "source": [
    "- Pertanyaan 1 : Pada musim apakah penyewaan paling terbanyak ?\n",
    "  \n",
    "  Kesimpulan nya bahwa musim terbanyak itu ada pada musim fall(Musim Gugur).\n",
    "  Musim fall sebanyak 1061129, Musim Summer 918589 ,Winter\t841613 ,Spring\t471348\n",
    "\n",
    "- Pertanyaan 2 : Pada Jam berapa penyewaan sepeda paling banyak dan paling sedikit ?\n",
    "  \n",
    "  Kesimpulan nya bahwa penyewa terbanyak itu ada pada jam 17.00 dan penyewa paling sedikit itu ada pada jam 4.00\n",
    "- Pertanyaan 3 : Berapa banyak perbandingan orang yang registered dan casual ?\n",
    "  \n",
    "  Kesimpulannya bahwa yang telah ter registered itu adalah 81.2% dan casual itu adalah 18.8%"
   ]
  }
 ],
 "metadata": {
  "colab": {
   "provenance": [],
   "toc_visible": true
  },
  "kernelspec": {
   "display_name": "Python 3",
   "language": "python",
   "name": "python3"
  },
  "language_info": {
   "codemirror_mode": {
    "name": "ipython",
    "version": 3
   },
   "file_extension": ".py",
   "mimetype": "text/x-python",
   "name": "python",
   "nbconvert_exporter": "python",
   "pygments_lexer": "ipython3",
   "version": "3.13.1"
  },
  "orig_nbformat": 4,
  "vscode": {
   "interpreter": {
    "hash": "972b3bf27e332e87b5379f2791f6ef9dfc79c71018c370b0d7423235e20fe4d7"
   }
  }
 },
 "nbformat": 4,
 "nbformat_minor": 0
}
